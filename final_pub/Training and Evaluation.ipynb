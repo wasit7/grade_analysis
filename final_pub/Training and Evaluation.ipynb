{
 "cells": [
  {
   "cell_type": "markdown",
   "metadata": {},
   "source": [
    "# Training and Evatuation"
   ]
  },
  {
   "cell_type": "markdown",
   "metadata": {},
   "source": [
    "## Loading\n",
    "Loading the pickel file from the previuos preparation and transformation process."
   ]
  },
  {
   "cell_type": "code",
   "execution_count": null,
   "metadata": {
    "collapsed": true
   },
   "outputs": [],
   "source": [
    "import pandas as pd\n",
    "import numpy as np\n",
    "import pickle\n",
    "df_csv= pd.read_pickle(\"df_noplus/df5.pkl\")"
   ]
  },
  {
   "cell_type": "markdown",
   "metadata": {},
   "source": [
    "## removing subjects\n",
    "The number of enrolments of each subject are vary. In some cases, there is a small number of enrolments on a particular subject, which causes high uncertainty. Therefore, the subjects that appears less than 20 times are removed from the training process."
   ]
  },
  {
   "cell_type": "code",
   "execution_count": 12,
   "metadata": {
    "collapsed": false
   },
   "outputs": [
    {
     "name": "stdout",
     "output_type": "stream",
     "text": [
      "(27994, 199)\n",
      "(27994, 199)\n"
     ]
    }
   ],
   "source": [
    "all_subjects=df_csv['COURSEID'].value_counts()\n",
    "##removing any subject enrolled less than 20 times\n",
    "m20=all_subjects[all_subjects[:]>=20]\n",
    "print df_csv.shape\n",
    "df_csv=df_csv[df_csv[\"COURSEID\"].isin(m20.index)]\n",
    "print df_csv.shape"
   ]
  },
  {
   "cell_type": "markdown",
   "metadata": {},
   "source": [
    "## Permutation\n",
    "In many cases, the data from relational database are sorted by updated time. The sorted data will cause low accuracy when working with the classifier and k-folds cross validation. The records the to be scrambled before  the training. Note that in the preliminary test we select CS213 as a testing data."
   ]
  },
  {
   "cell_type": "code",
   "execution_count": 4,
   "metadata": {
    "collapsed": true
   },
   "outputs": [],
   "source": [
    "df=df_csv[df_csv['COURSEID']=='CS213']\n",
    "#df[\"COURSEID\"].value_counts()\n",
    "#df=pd.read_csv('../df_m20/df_CS213.csv',index_col=0)\n",
    "df=df.iloc[np.random.permutation(len(df))]"
   ]
  },
  {
   "cell_type": "markdown",
   "metadata": {},
   "source": [
    "## Converting to numeric data\n",
    "Most of classifiers requires the traning data to be numeric. Make sure we got the right one."
   ]
  },
  {
   "cell_type": "code",
   "execution_count": 20,
   "metadata": {
    "collapsed": false
   },
   "outputs": [
    {
     "name": "stdout",
     "output_type": "stream",
     "text": [
      "datatype of x is <type 'numpy.ndarray'> with shape of (765L, 195L)\n",
      "datatype of y is <type 'numpy.ndarray'> with shape of (765L,)\n"
     ]
    }
   ],
   "source": [
    "x_head=df.columns[4:]\n",
    "y_head=['GRADE']\n",
    "x=df.as_matrix(x_head)\n",
    "y=df.as_matrix(y_head).T[0]\n",
    "\n",
    "print 'datatype of x is {} with shape of {}'.format(type(x), x.shape)\n",
    "print 'datatype of y is {} with shape of {}'.format(type(y), y.shape)"
   ]
  },
  {
   "cell_type": "markdown",
   "metadata": {},
   "source": [
    "## Training and Evaluation (DIY approach)\n",
    "Training and prediction are preformed in the following code. Confusion matrix, accuracy and RMS are also calculated."
   ]
  },
  {
   "cell_type": "code",
   "execution_count": 22,
   "metadata": {
    "collapsed": false
   },
   "outputs": [
    {
     "name": "stdout",
     "output_type": "stream",
     "text": [
      "***confusion matrix\n",
      "[[  0.   0.   0.   0.   0.   0.   0.   0.   0.]\n",
      " [  0.   0.   0.   0.   0.   0.   0.   0.   0.]\n",
      " [  0.   0.   0.   0.   0.   0.   0.   0.   0.]\n",
      " [  0.   0.   0.   2.   2.   3.   0.   0.   0.]\n",
      " [  0.   0.   0.   3.   5.  12.   1.   0.   0.]\n",
      " [  0.   0.   0.   1.   4.  17.  16.   1.   0.]\n",
      " [  0.   0.   0.   0.   1.  10.  40.   5.   1.]\n",
      " [  0.   0.   0.   0.   0.   1.   6.  10.   6.]\n",
      " [  0.   0.   0.   0.   0.   0.   0.   2.   4.]]\n",
      "***accuracy\n",
      "0.509803921569\n",
      "***rms\n",
      "0.816496580928\n"
     ]
    }
   ],
   "source": [
    "from sklearn.tree import DecisionTreeClassifier\n",
    "from sklearn.ensemble import RandomForestClassifier\n",
    "from sklearn.ensemble import ExtraTreesClassifier\n",
    "from sklearn import svm\n",
    "from sklearn.cross_validation import cross_val_score\n",
    "from sklearn.metrics import mean_squared_error\n",
    "\n",
    "# 5 folds cross-validation\n",
    "h=5 \n",
    "\n",
    "# There are 4 partitions are used for training\n",
    "clf_et.fit(x[len(y)/h:],y[len(y)/h:]) \n",
    "\n",
    "# And the first partition used for evaluation\n",
    "dif=[];\n",
    "clmax=9\n",
    "cm=np.zeros((clmax,clmax))\n",
    "yp=[]\n",
    "ya=[]\n",
    "for i in xrange(len(y)/h):\n",
    "    gp=clf_et.predict(x[i,:])[0]\n",
    "    ga=y[i]\n",
    "    yp.append(gp)\n",
    "    ya.append(ga)\n",
    "    cm[gp,ga] +=1\n",
    "    dif.append(ga-gp)\n",
    "    #print \"actual: %d, prediction: %d\"%(ga,gp)\n",
    "    \n",
    "print \"***confusion matrix\"\n",
    "print cm\n",
    "\n",
    "print '***accuracy'\n",
    "print np.sum(np.array([cm[i,i] for i in xrange(cm.shape[0])]))/np.sum(cm)\n",
    "\n",
    "print '***rms'\n",
    "print np.sqrt(mean_squared_error(ya, yp))"
   ]
  },
  {
   "cell_type": "markdown",
   "metadata": {},
   "source": [
    "## Distribution of differences\n",
    "Here the distribution of the differences between groudtruth and prediction are illustrated. The distribution is quite broad because of the small number of enrolments, which is only 153 records."
   ]
  },
  {
   "cell_type": "code",
   "execution_count": 29,
   "metadata": {
    "collapsed": false
   },
   "outputs": [
    {
     "data": {
      "text/plain": [
       "<matplotlib.axes._subplots.AxesSubplot at 0x210b9518>"
      ]
     },
     "execution_count": 29,
     "metadata": {},
     "output_type": "execute_result"
    },
    {
     "data": {
      "image/png": "[encoded data removed]",
      "text/plain": [
       "<matplotlib.figure.Figure at 0xca2a668>"
      ]
     },
     "metadata": {},
     "output_type": "display_data"
    }
   ],
   "source": [
    "import matplotlib.pyplot as plt\n",
    "plt.style.use('ggplot')\n",
    "%matplotlib inline\n",
    "df_dif=pd.DataFrame({'dif':dif})\n",
    "plt.rcParams['figure.figsize'] = (8,6)\n",
    "df_dif.dif.value_counts().sort_index().plot(kind='bar')"
   ]
  },
  {
   "cell_type": "code",
   "execution_count": 11,
   "metadata": {
    "collapsed": false
   },
   "outputs": [
    {
     "name": "stdout",
     "output_type": "stream",
     "text": [
      "[ 0.45806452  0.49350649  0.42763158  0.42763158  0.49342105]\n",
      "--Decision Tree: 0.460051044032\n",
      "[ 0.50322581  0.48701299  0.46052632  0.53947368  0.55921053]\n",
      "--Random Forest: 0.509889863956\n",
      "[ 0.49677419  0.49350649  0.53289474  0.50657895  0.50657895]\n",
      "--Extra Tree: 0.507266663727\n",
      "[ 0.49677419  0.49350649  0.46052632  0.45394737  0.51315789]\n",
      "--SVM: 0.4835824532\n"
     ]
    }
   ],
   "source": [
    "clf_dt = DecisionTreeClassifier(max_depth=None, \n",
    "    min_samples_split=1, random_state=None, max_features=None)\n",
    "scores = cross_val_score(clf_dt, x, y, cv=5)\n",
    "print scores\n",
    "print \"--Decision Tree: %s\"%scores.mean()\n",
    "\n",
    "clf_rf=RandomForestClassifier(n_estimators=10, max_depth=None, \n",
    "    min_samples_split=1, random_state=None, max_features=None)\n",
    "scores = cross_val_score(clf_rf, x, y, cv=5)\n",
    "print scores\n",
    "print \"--Random Forest: %s\"%scores.mean()\n",
    "\n",
    "clf_et = ExtraTreesClassifier(n_estimators=10, max_depth=None, \n",
    "    min_samples_split=1, random_state=None, max_features=None)\n",
    "scores = cross_val_score(clf_et, x, y, cv=5)\n",
    "print scores\n",
    "print \"--Extra Tree: %s\"%scores.mean()\n",
    "\n",
    "clf_svm = svm.SVC()\n",
    "scores = cross_val_score(clf_svm, x, y, cv=5)\n",
    "print scores\n",
    "print \"--SVM: %s\"%scores.mean()"
   ]
  },
  {
   "cell_type": "markdown",
   "metadata": {},
   "source": [
    "## Larger dataset\n",
    "Now it is ready to test with other subjects, which has bigger number of enrolments."
   ]
  },
  {
   "cell_type": "code",
   "execution_count": 30,
   "metadata": {
    "collapsed": false
   },
   "outputs": [
    {
     "data": {
      "text/plain": [
       "<matplotlib.axes._subplots.AxesSubplot at 0xcdd6cf8>"
      ]
     },
     "execution_count": 30,
     "metadata": {},
     "output_type": "execute_result"
    },
    {
     "data": {
      "image/png": "[encoded data removed]",
      "text/plain": [
       "<matplotlib.figure.Figure at 0xcdea278>"
      ]
     },
     "metadata": {},
     "output_type": "display_data"
    }
   ],
   "source": [
    "## real experiment starts here\n",
    "import matplotlib.pyplot as plt\n",
    "plt.style.use('ggplot')\n",
    "plt.rcParams['figure.figsize'] = (8,3)\n",
    "plt.title(\"Numbers of Enrollments\")\n",
    "plt.xlabel(\"Subjects\")\n",
    "plt.ylabel(\"Counts\")\n",
    "m20.head(40).plot(kind='bar')"
   ]
  },
  {
   "cell_type": "markdown",
   "metadata": {},
   "source": [
    "## Root Mean Square Error\n",
    "The following code calculate the RMSE of all subjects in the list m20."
   ]
  },
  {
   "cell_type": "code",
   "execution_count": 32,
   "metadata": {
    "collapsed": false
   },
   "outputs": [
    {
     "name": "stdout",
     "output_type": "stream",
     "text": [
      " MA211  CS102  CS101  TU154  TH161  CS111  CS213  EL171  SC135  PY228  EL172  SC185  TU110  CS223  TU120  ST216  CS284  EL295  TU130  MA212  MA332  CS314  CS222  CS214  CS261  CS251  CS281  CS341  EL395  CS301  CS311  CS374  CS302  CS401  CS342  CS105  HO201  CS395  CS402  CS365  EL070  AT326  TU100  CS289  CS385  AT316  CS326  TU122  CS288  CS487  CS211  CS489  SC123  SC173  CS296  CS488  SW111  CS367  SW365  CS486  SW212  CS409  SW221  CS215  CS386  CS366  CS295  LA209  CS377  CS456  CS467  SW478  CS300  SW213  BA291  MW314  SW475  ES356  CS427  CS396  CS387  CS297  CS286  CS429  SW335  CS446  CS356  HR201  CS459  NS132  SO201  TA395  CJ321  CS397  CS398  CS348  CJ317  MW313  CJ316  CS407  MA216  CS115  CS457  CS388  CS449  CS426  CS408  CJ315  CS399  CS285 "
     ]
    },
    {
     "data": {
      "text/plain": [
       "<matplotlib.text.Text at 0xd3ed400>"
      ]
     },
     "execution_count": 32,
     "metadata": {},
     "output_type": "execute_result"
    },
    {
     "name": "stdout",
     "output_type": "stream",
     "text": [
      "\n"
     ]
    },
    {
     "data": {
      "image/png": "[encoded data removed]",
      "text/plain": [
       "<matplotlib.figure.Figure at 0x13cc0860>"
      ]
     },
     "metadata": {},
     "output_type": "display_data"
    }
   ],
   "source": [
    "from sklearn.metrics import mean_squared_error\n",
    "\n",
    "df_rms = pd.DataFrame(m20.copy(), columns=['DT'])\n",
    "df_rms['RF'] = m20.copy()\n",
    "df_rms['ET'] = m20.copy()\n",
    "df_rms['SVM'] = m20.copy()\n",
    "\n",
    "for subject,count in m20.iteritems():\n",
    "    print \"%s \"%subject,\n",
    "    ##load data\n",
    "    dfx=df_csv[df_csv['COURSEID']==subject]\n",
    "    dfx=dfx.iloc[np.random.permutation(len(dfx))]\n",
    "    \n",
    "    ##convert to np.array\n",
    "    x=dfx.as_matrix( dfx.columns[4:] )\n",
    "    y=dfx.as_matrix( ['GRADE'] ).T[0]\n",
    "    \n",
    "    #1st partition for training  \n",
    "    x1=x[len(y)/5:]   \n",
    "    y1=y[len(y)/5:]\n",
    "    \n",
    "    #2nd partition for testing\n",
    "    x2=x[:len(y)/5] \n",
    "    y2=y[:len(y)/5]\n",
    "    \n",
    "    ##evaluate rms\n",
    "    clf_dt.fit(x1,y1)\n",
    "    df_rms['DT'].loc[subject]= np.sqrt(mean_squared_error( y2, clf_dt.predict(x2) ))\n",
    "    \n",
    "    clf_rf.fit(x1,y1)\n",
    "    df_rms['RF'].loc[subject]= np.sqrt(mean_squared_error( y2, clf_rf.predict(x2) ))\n",
    "    \n",
    "    clf_et.fit(x1,y1)\n",
    "    df_rms['ET'].loc[subject]= np.sqrt(mean_squared_error( y2, clf_et.predict(x2) ))\n",
    "    \n",
    "    clf_svm.fit(x1,y1)\n",
    "    df_rms['SVM'].loc[subject]= np.sqrt(mean_squared_error( y2, clf_svm.predict(x2) ))\n",
    "\n",
    "df_rms.head(20).plot(kind='bar')\n",
    "plt.rcParams['figure.figsize'] = (8,5)\n",
    "plt.title(\"RMSE Comparison\")\n",
    "plt.xlabel(\"Subjects\")\n",
    "plt.ylabel(\"RMSE\")"
   ]
  },
  {
   "cell_type": "markdown",
   "metadata": {},
   "source": [
    "## Accuracy\n",
    "The following code calculate the accuracy of all subjects in the list m20.Note that this is a long process, it is better to enjoy a cup tea during the calculation."
   ]
  },
  {
   "cell_type": "code",
   "execution_count": 35,
   "metadata": {
    "collapsed": false
   },
   "outputs": [
    {
     "name": "stdout",
     "output_type": "stream",
     "text": [
      " MA211  CS102  CS101  TU154  TH161  CS111  CS213  EL171  SC135  PY228  EL172  SC185  TU110  CS223  TU120  ST216  CS284  EL295  TU130  MA212  MA332  CS314  CS222  CS214  CS261  CS251  CS281  CS341  EL395  CS301  CS311  CS374  CS302  CS401  CS342  CS105  HO201  CS395  CS402  CS365  EL070  AT326  TU100  CS289  CS385  AT316  CS326  TU122  CS288  CS487  CS211  CS489  SC123  SC173  CS296  CS488  SW111  CS367  SW365  CS486  SW212  CS409  SW221  CS215  CS386  CS366  CS295  LA209  CS377  CS456  CS467  SW478  CS300  SW213  BA291  MW314  SW475  ES356  CS427  CS396  CS387  CS297  CS286  CS429  SW335  CS446  CS356  HR201  CS459  NS132  SO201  TA395  CJ321  CS397  CS398  CS348  CJ317  MW313  CJ316  CS407  MA216  CS115  CS457  CS388  CS449  CS426  CS408  CJ315  CS399  CS285 "
     ]
    },
    {
     "data": {
      "text/plain": [
       "<matplotlib.text.Text at 0x226e1470>"
      ]
     },
     "execution_count": 35,
     "metadata": {},
     "output_type": "execute_result"
    },
    {
     "name": "stdout",
     "output_type": "stream",
     "text": [
      "\n"
     ]
    },
    {
     "data": {
      "image/png": "[encoded data removed]",
      "text/plain": [
       "<matplotlib.figure.Figure at 0xd1bc668>"
      ]
     },
     "metadata": {},
     "output_type": "display_data"
    }
   ],
   "source": [
    "df_accuracy = pd.DataFrame(m20.copy(), columns=['DT'])\n",
    "df_accuracy['RF'] = m20.copy()\n",
    "df_accuracy['ET'] = m20.copy()\n",
    "df_accuracy['SVM'] = m20.copy()\n",
    "\n",
    "for subject,count in m20.iteritems():\n",
    "    print \"%s \"%subject,\n",
    "    ##load data\n",
    "    dfx=df_csv[df_csv['COURSEID']==subject]\n",
    "    dfx=dfx.iloc[np.random.permutation(len(dfx))]\n",
    "    ##convert to np.array\n",
    "    x=dfx.as_matrix( dfx.columns[4:] )\n",
    "    y=dfx.as_matrix( ['GRADE'] ).T[0]\n",
    "    ##evaluation accuracy\n",
    "    df_accuracy['DT'].loc[subject]=cross_val_score(clf_dt, x, y, cv=5).mean()\n",
    "    df_accuracy['RF'].loc[subject]=cross_val_score(clf_rf, x, y, cv=5).mean()\n",
    "    df_accuracy['ET'].loc[subject]=cross_val_score(clf_et, x, y, cv=5).mean()\n",
    "    df_accuracy['SVM'].loc[subject]=cross_val_score(clf_svm, x, y, cv=5).mean()\n",
    "\n",
    "df_accuracy.head(20).plot(kind='bar')\n",
    "plt.rcParams['figure.figsize'] = (8,5)\n",
    "plt.title(\"Accuracy Comparison\")\n",
    "plt.xlabel(\"Subjects\")\n",
    "plt.ylabel(\"accuracy\")"
   ]
  },
  {
   "cell_type": "code",
   "execution_count": null,
   "metadata": {
    "collapsed": true
   },
   "outputs": [],
   "source": []
  }
 ],
 "metadata": {
  "kernelspec": {
   "display_name": "Python 2",
   "language": "python",
   "name": "python2"
  },
  "language_info": {
   "codemirror_mode": {
    "name": "ipython",
    "version": 2
   },
   "file_extension": ".py",
   "mimetype": "text/x-python",
   "name": "python",
   "nbconvert_exporter": "python",
   "pygments_lexer": "ipython2",
   "version": "2.7.11"
  }
 },
 "nbformat": 4,
 "nbformat_minor": 0
}
