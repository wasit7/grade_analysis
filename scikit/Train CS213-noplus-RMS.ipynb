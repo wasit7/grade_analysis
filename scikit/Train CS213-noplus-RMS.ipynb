{
 "cells": [
  {
   "cell_type": "code",
   "execution_count": 1,
   "metadata": {
    "collapsed": false
   },
   "outputs": [
    {
     "data": {
      "text/plain": [
       "u'C:\\\\Users\\\\Wasit\\\\Documents\\\\GitHub\\\\grade_analysis\\\\scikit'"
      ]
     },
     "execution_count": 1,
     "metadata": {},
     "output_type": "execute_result"
    }
   ],
   "source": [
    "pwd"
   ]
  },
  {
   "cell_type": "code",
   "execution_count": 3,
   "metadata": {
    "collapsed": false
   },
   "outputs": [
    {
     "ename": "ImportError",
     "evalue": "No module named indexes.base",
     "output_type": "error",
     "traceback": [
      "\u001b[1;31m----------------------------------------------------------------------\u001b[0m",
      "\u001b[1;31mImportError\u001b[0m                          Traceback (most recent call last)",
      "\u001b[1;32m<ipython-input-3-32d109153932>\u001b[0m in \u001b[0;36m<module>\u001b[1;34m()\u001b[0m\n\u001b[0;32m      2\u001b[0m \u001b[1;32mimport\u001b[0m \u001b[0mnumpy\u001b[0m \u001b[1;32mas\u001b[0m \u001b[0mnp\u001b[0m\u001b[1;33m\u001b[0m\u001b[0m\n\u001b[0;32m      3\u001b[0m \u001b[1;32mimport\u001b[0m \u001b[0mpickle\u001b[0m\u001b[1;33m\u001b[0m\u001b[0m\n\u001b[1;32m----> 4\u001b[1;33m \u001b[0mdf_csv\u001b[0m\u001b[1;33m=\u001b[0m \u001b[0mpd\u001b[0m\u001b[1;33m.\u001b[0m\u001b[0mread_pickle\u001b[0m\u001b[1;33m(\u001b[0m\u001b[1;34m\"../df_noplus/df5.pkl\"\u001b[0m\u001b[1;33m)\u001b[0m\u001b[1;33m\u001b[0m\u001b[0m\n\u001b[0m",
      "\u001b[1;32mC:\\Anaconda\\lib\\site-packages\\pandas\\io\\pickle.pyc\u001b[0m in \u001b[0;36mread_pickle\u001b[1;34m(path)\u001b[0m\n\u001b[0;32m     58\u001b[0m \u001b[1;33m\u001b[0m\u001b[0m\n\u001b[0;32m     59\u001b[0m     \u001b[1;32mtry\u001b[0m\u001b[1;33m:\u001b[0m\u001b[1;33m\u001b[0m\u001b[0m\n\u001b[1;32m---> 60\u001b[1;33m         \u001b[1;32mreturn\u001b[0m \u001b[0mtry_read\u001b[0m\u001b[1;33m(\u001b[0m\u001b[0mpath\u001b[0m\u001b[1;33m)\u001b[0m\u001b[1;33m\u001b[0m\u001b[0m\n\u001b[0m\u001b[0;32m     61\u001b[0m     \u001b[1;32mexcept\u001b[0m\u001b[1;33m:\u001b[0m\u001b[1;33m\u001b[0m\u001b[0m\n\u001b[0;32m     62\u001b[0m         \u001b[1;32mif\u001b[0m \u001b[0mPY3\u001b[0m\u001b[1;33m:\u001b[0m\u001b[1;33m\u001b[0m\u001b[0m\n",
      "\u001b[1;32mC:\\Anaconda\\lib\\site-packages\\pandas\\io\\pickle.pyc\u001b[0m in \u001b[0;36mtry_read\u001b[1;34m(path, encoding)\u001b[0m\n\u001b[0;32m     55\u001b[0m             \u001b[1;32mexcept\u001b[0m\u001b[1;33m:\u001b[0m\u001b[1;33m\u001b[0m\u001b[0m\n\u001b[0;32m     56\u001b[0m                 \u001b[1;32mwith\u001b[0m \u001b[0mopen\u001b[0m\u001b[1;33m(\u001b[0m\u001b[0mpath\u001b[0m\u001b[1;33m,\u001b[0m \u001b[1;34m'rb'\u001b[0m\u001b[1;33m)\u001b[0m \u001b[1;32mas\u001b[0m \u001b[0mfh\u001b[0m\u001b[1;33m:\u001b[0m\u001b[1;33m\u001b[0m\u001b[0m\n\u001b[1;32m---> 57\u001b[1;33m                     \u001b[1;32mreturn\u001b[0m \u001b[0mpc\u001b[0m\u001b[1;33m.\u001b[0m\u001b[0mload\u001b[0m\u001b[1;33m(\u001b[0m\u001b[0mfh\u001b[0m\u001b[1;33m,\u001b[0m \u001b[0mencoding\u001b[0m\u001b[1;33m=\u001b[0m\u001b[0mencoding\u001b[0m\u001b[1;33m,\u001b[0m \u001b[0mcompat\u001b[0m\u001b[1;33m=\u001b[0m\u001b[0mTrue\u001b[0m\u001b[1;33m)\u001b[0m\u001b[1;33m\u001b[0m\u001b[0m\n\u001b[0m\u001b[0;32m     58\u001b[0m \u001b[1;33m\u001b[0m\u001b[0m\n\u001b[0;32m     59\u001b[0m     \u001b[1;32mtry\u001b[0m\u001b[1;33m:\u001b[0m\u001b[1;33m\u001b[0m\u001b[0m\n",
      "\u001b[1;32mC:\\Anaconda\\lib\\site-packages\\pandas\\compat\\pickle_compat.pyc\u001b[0m in \u001b[0;36mload\u001b[1;34m(fh, encoding, compat, is_verbose)\u001b[0m\n\u001b[0;32m    114\u001b[0m         \u001b[0mup\u001b[0m\u001b[1;33m.\u001b[0m\u001b[0mis_verbose\u001b[0m \u001b[1;33m=\u001b[0m \u001b[0mis_verbose\u001b[0m\u001b[1;33m\u001b[0m\u001b[0m\n\u001b[0;32m    115\u001b[0m \u001b[1;33m\u001b[0m\u001b[0m\n\u001b[1;32m--> 116\u001b[1;33m         \u001b[1;32mreturn\u001b[0m \u001b[0mup\u001b[0m\u001b[1;33m.\u001b[0m\u001b[0mload\u001b[0m\u001b[1;33m(\u001b[0m\u001b[1;33m)\u001b[0m\u001b[1;33m\u001b[0m\u001b[0m\n\u001b[0m\u001b[0;32m    117\u001b[0m     \u001b[1;32mexcept\u001b[0m\u001b[1;33m:\u001b[0m\u001b[1;33m\u001b[0m\u001b[0m\n\u001b[0;32m    118\u001b[0m         \u001b[1;32mraise\u001b[0m\u001b[1;33m\u001b[0m\u001b[0m\n",
      "\u001b[1;32mC:\\Anaconda\\lib\\pickle.pyc\u001b[0m in \u001b[0;36mload\u001b[1;34m(self)\u001b[0m\n\u001b[0;32m    862\u001b[0m             \u001b[1;32mwhile\u001b[0m \u001b[1;36m1\u001b[0m\u001b[1;33m:\u001b[0m\u001b[1;33m\u001b[0m\u001b[0m\n\u001b[0;32m    863\u001b[0m                 \u001b[0mkey\u001b[0m \u001b[1;33m=\u001b[0m \u001b[0mread\u001b[0m\u001b[1;33m(\u001b[0m\u001b[1;36m1\u001b[0m\u001b[1;33m)\u001b[0m\u001b[1;33m\u001b[0m\u001b[0m\n\u001b[1;32m--> 864\u001b[1;33m                 \u001b[0mdispatch\u001b[0m\u001b[1;33m[\u001b[0m\u001b[0mkey\u001b[0m\u001b[1;33m]\u001b[0m\u001b[1;33m(\u001b[0m\u001b[0mself\u001b[0m\u001b[1;33m)\u001b[0m\u001b[1;33m\u001b[0m\u001b[0m\n\u001b[0m\u001b[0;32m    865\u001b[0m         \u001b[1;32mexcept\u001b[0m \u001b[0m_Stop\u001b[0m\u001b[1;33m,\u001b[0m \u001b[0mstopinst\u001b[0m\u001b[1;33m:\u001b[0m\u001b[1;33m\u001b[0m\u001b[0m\n\u001b[0;32m    866\u001b[0m             \u001b[1;32mreturn\u001b[0m \u001b[0mstopinst\u001b[0m\u001b[1;33m.\u001b[0m\u001b[0mvalue\u001b[0m\u001b[1;33m\u001b[0m\u001b[0m\n",
      "\u001b[1;32mC:\\Anaconda\\lib\\pickle.pyc\u001b[0m in \u001b[0;36mload_global\u001b[1;34m(self)\u001b[0m\n\u001b[0;32m   1094\u001b[0m         \u001b[0mmodule\u001b[0m \u001b[1;33m=\u001b[0m \u001b[0mself\u001b[0m\u001b[1;33m.\u001b[0m\u001b[0mreadline\u001b[0m\u001b[1;33m(\u001b[0m\u001b[1;33m)\u001b[0m\u001b[1;33m[\u001b[0m\u001b[1;33m:\u001b[0m\u001b[1;33m-\u001b[0m\u001b[1;36m1\u001b[0m\u001b[1;33m]\u001b[0m\u001b[1;33m\u001b[0m\u001b[0m\n\u001b[0;32m   1095\u001b[0m         \u001b[0mname\u001b[0m \u001b[1;33m=\u001b[0m \u001b[0mself\u001b[0m\u001b[1;33m.\u001b[0m\u001b[0mreadline\u001b[0m\u001b[1;33m(\u001b[0m\u001b[1;33m)\u001b[0m\u001b[1;33m[\u001b[0m\u001b[1;33m:\u001b[0m\u001b[1;33m-\u001b[0m\u001b[1;36m1\u001b[0m\u001b[1;33m]\u001b[0m\u001b[1;33m\u001b[0m\u001b[0m\n\u001b[1;32m-> 1096\u001b[1;33m         \u001b[0mklass\u001b[0m \u001b[1;33m=\u001b[0m \u001b[0mself\u001b[0m\u001b[1;33m.\u001b[0m\u001b[0mfind_class\u001b[0m\u001b[1;33m(\u001b[0m\u001b[0mmodule\u001b[0m\u001b[1;33m,\u001b[0m \u001b[0mname\u001b[0m\u001b[1;33m)\u001b[0m\u001b[1;33m\u001b[0m\u001b[0m\n\u001b[0m\u001b[0;32m   1097\u001b[0m         \u001b[0mself\u001b[0m\u001b[1;33m.\u001b[0m\u001b[0mappend\u001b[0m\u001b[1;33m(\u001b[0m\u001b[0mklass\u001b[0m\u001b[1;33m)\u001b[0m\u001b[1;33m\u001b[0m\u001b[0m\n\u001b[0;32m   1098\u001b[0m     \u001b[0mdispatch\u001b[0m\u001b[1;33m[\u001b[0m\u001b[0mGLOBAL\u001b[0m\u001b[1;33m]\u001b[0m \u001b[1;33m=\u001b[0m \u001b[0mload_global\u001b[0m\u001b[1;33m\u001b[0m\u001b[0m\n",
      "\u001b[1;32mC:\\Anaconda\\lib\\pickle.pyc\u001b[0m in \u001b[0;36mfind_class\u001b[1;34m(self, module, name)\u001b[0m\n\u001b[0;32m   1128\u001b[0m     \u001b[1;32mdef\u001b[0m \u001b[0mfind_class\u001b[0m\u001b[1;33m(\u001b[0m\u001b[0mself\u001b[0m\u001b[1;33m,\u001b[0m \u001b[0mmodule\u001b[0m\u001b[1;33m,\u001b[0m \u001b[0mname\u001b[0m\u001b[1;33m)\u001b[0m\u001b[1;33m:\u001b[0m\u001b[1;33m\u001b[0m\u001b[0m\n\u001b[0;32m   1129\u001b[0m         \u001b[1;31m# Subclasses may override this\u001b[0m\u001b[1;33m\u001b[0m\u001b[1;33m\u001b[0m\u001b[0m\n\u001b[1;32m-> 1130\u001b[1;33m         \u001b[0m__import__\u001b[0m\u001b[1;33m(\u001b[0m\u001b[0mmodule\u001b[0m\u001b[1;33m)\u001b[0m\u001b[1;33m\u001b[0m\u001b[0m\n\u001b[0m\u001b[0;32m   1131\u001b[0m         \u001b[0mmod\u001b[0m \u001b[1;33m=\u001b[0m \u001b[0msys\u001b[0m\u001b[1;33m.\u001b[0m\u001b[0mmodules\u001b[0m\u001b[1;33m[\u001b[0m\u001b[0mmodule\u001b[0m\u001b[1;33m]\u001b[0m\u001b[1;33m\u001b[0m\u001b[0m\n\u001b[0;32m   1132\u001b[0m         \u001b[0mklass\u001b[0m \u001b[1;33m=\u001b[0m \u001b[0mgetattr\u001b[0m\u001b[1;33m(\u001b[0m\u001b[0mmod\u001b[0m\u001b[1;33m,\u001b[0m \u001b[0mname\u001b[0m\u001b[1;33m)\u001b[0m\u001b[1;33m\u001b[0m\u001b[0m\n",
      "\u001b[1;31mImportError\u001b[0m: No module named indexes.base"
     ]
    }
   ],
   "source": [
    "import pandas as pd\n",
    "import numpy as np\n",
    "import pickle\n",
    "df_csv= pd.read_pickle(\"../df_noplus/df5.pkl\")"
   ]
  },
  {
   "cell_type": "code",
   "execution_count": 111,
   "metadata": {
    "collapsed": false
   },
   "outputs": [
    {
     "name": "stdout",
     "output_type": "stream",
     "text": [
      "(28272, 199)\n",
      "(27994, 199)\n"
     ]
    }
   ],
   "source": [
    "all_subjects=df_csv['COURSEID'].value_counts()\n",
    "##removing any subject enrolled less than 20 times\n",
    "m20=all_subjects[all_subjects[:]>=20]\n",
    "print df_csv.shape\n",
    "df_csv=df_csv[df_csv[\"COURSEID\"].isin(m20.index)]\n",
    "print df_csv.shape"
   ]
  },
  {
   "cell_type": "code",
   "execution_count": 112,
   "metadata": {
    "collapsed": false
   },
   "outputs": [],
   "source": [
    "df=df_csv[df_csv['COURSEID']=='CS213']\n",
    "#df[\"COURSEID\"].value_counts()\n",
    "#df=pd.read_csv('../df_m20/df_CS213.csv',index_col=0)\n",
    "df=df.iloc[np.random.permutation(len(df))]"
   ]
  },
  {
   "cell_type": "code",
   "execution_count": 113,
   "metadata": {
    "collapsed": false
   },
   "outputs": [
    {
     "name": "stdout",
     "output_type": "stream",
     "text": [
      "Index([u'AN201', u'AS171', u'AS177', u'AS178', u'AT207', u'AT316', u'AT326',\n",
      "       u'AT336', u'AT346', u'AT366',\n",
      "       ...\n",
      "       u'TU110', u'TU111', u'TU115', u'TU116', u'TU120', u'TU122', u'TU130',\n",
      "       u'TU153', u'TU154', u'TU156'],\n",
      "      dtype='object', length=195)\n",
      "['GRADE']\n"
     ]
    }
   ],
   "source": [
    "x_head=df.columns[4:]\n",
    "y_head=['GRADE']\n",
    "print x_head\n",
    "print y_head\n",
    "x=df.as_matrix(x_head)\n",
    "y=df.as_matrix(y_head).T[0]"
   ]
  },
  {
   "cell_type": "code",
   "execution_count": 114,
   "metadata": {
    "collapsed": false
   },
   "outputs": [
    {
     "name": "stdout",
     "output_type": "stream",
     "text": [
      "[ 0.52258065  0.37012987  0.44078947  0.44736842  0.44078947]\n",
      "--Decision Tree: 0.444331576742\n",
      "[ 0.50322581  0.48701299  0.5         0.43421053  0.46052632]\n",
      "--Random Forest: 0.476995127114\n",
      "[ 0.47096774  0.44155844  0.5         0.47368421  0.47368421]\n",
      "--Extra Tree: 0.471978920909\n",
      "[ 0.49032258  0.50649351  0.51973684  0.46710526  0.51973684]\n",
      "--SVM: 0.500679006901\n"
     ]
    }
   ],
   "source": [
    "from sklearn.tree import DecisionTreeClassifier\n",
    "from sklearn.ensemble import RandomForestClassifier\n",
    "from sklearn.ensemble import ExtraTreesClassifier\n",
    "from sklearn import svm\n",
    "from sklearn.cross_validation import cross_val_score\n",
    "\n",
    "clf_dt = DecisionTreeClassifier(max_depth=None, \n",
    "    min_samples_split=1, random_state=None, max_features=None)\n",
    "scores = cross_val_score(clf_dt, x, y, cv=5)\n",
    "print scores\n",
    "print \"--Decision Tree: %s\"%scores.mean()\n",
    "\n",
    "clf_rf=RandomForestClassifier(n_estimators=10, max_depth=None, \n",
    "    min_samples_split=1, random_state=None, max_features=None)\n",
    "scores = cross_val_score(clf_rf, x, y, cv=5)\n",
    "print scores\n",
    "print \"--Random Forest: %s\"%scores.mean()\n",
    "\n",
    "clf_et = ExtraTreesClassifier(n_estimators=10, max_depth=None, \n",
    "    min_samples_split=1, random_state=None, max_features=None)\n",
    "scores = cross_val_score(clf_et, x, y, cv=5)\n",
    "print scores\n",
    "print \"--Extra Tree: %s\"%scores.mean()\n",
    "\n",
    "clf_svm = svm.SVC()\n",
    "scores = cross_val_score(clf_svm, x, y, cv=5)\n",
    "print scores\n",
    "print \"--SVM: %s\"%scores.mean()"
   ]
  },
  {
   "cell_type": "code",
   "execution_count": 115,
   "metadata": {
    "collapsed": false
   },
   "outputs": [
    {
     "data": {
      "text/plain": [
       "0.50067900690141776"
      ]
     },
     "execution_count": 115,
     "metadata": {},
     "output_type": "execute_result"
    }
   ],
   "source": [
    "scores.mean()"
   ]
  },
  {
   "cell_type": "code",
   "execution_count": 1,
   "metadata": {
    "collapsed": false
   },
   "outputs": [
    {
     "ename": "NameError",
     "evalue": "name 'clf_et' is not defined",
     "output_type": "error",
     "traceback": [
      "\u001b[1;31m----------------------------------------------------------------------\u001b[0m",
      "\u001b[1;31mNameError\u001b[0m                            Traceback (most recent call last)",
      "\u001b[1;32m<ipython-input-1-b6774a5f6f98>\u001b[0m in \u001b[0;36m<module>\u001b[1;34m()\u001b[0m\n\u001b[0;32m      1\u001b[0m \u001b[0mh\u001b[0m\u001b[1;33m=\u001b[0m\u001b[1;36m5\u001b[0m\u001b[1;33m\u001b[0m\u001b[0m\n\u001b[1;32m----> 2\u001b[1;33m \u001b[0mclf_et\u001b[0m\u001b[1;33m.\u001b[0m\u001b[0mfit\u001b[0m\u001b[1;33m(\u001b[0m\u001b[0mx\u001b[0m\u001b[1;33m[\u001b[0m\u001b[0mlen\u001b[0m\u001b[1;33m(\u001b[0m\u001b[0my\u001b[0m\u001b[1;33m)\u001b[0m\u001b[1;33m/\u001b[0m\u001b[0mh\u001b[0m\u001b[1;33m:\u001b[0m\u001b[1;33m]\u001b[0m\u001b[1;33m,\u001b[0m\u001b[0my\u001b[0m\u001b[1;33m[\u001b[0m\u001b[0mlen\u001b[0m\u001b[1;33m(\u001b[0m\u001b[0my\u001b[0m\u001b[1;33m)\u001b[0m\u001b[1;33m/\u001b[0m\u001b[0mh\u001b[0m\u001b[1;33m:\u001b[0m\u001b[1;33m]\u001b[0m\u001b[1;33m)\u001b[0m\u001b[1;33m\u001b[0m\u001b[0m\n\u001b[0m\u001b[0;32m      3\u001b[0m \u001b[0mdif\u001b[0m\u001b[1;33m=\u001b[0m\u001b[1;33m[\u001b[0m\u001b[1;33m]\u001b[0m\u001b[1;33m;\u001b[0m\u001b[1;33m\u001b[0m\u001b[0m\n\u001b[0;32m      4\u001b[0m \u001b[0mclmax\u001b[0m\u001b[1;33m=\u001b[0m\u001b[1;36m9\u001b[0m\u001b[1;33m\u001b[0m\u001b[0m\n\u001b[0;32m      5\u001b[0m \u001b[0mcm\u001b[0m\u001b[1;33m=\u001b[0m\u001b[0mnp\u001b[0m\u001b[1;33m.\u001b[0m\u001b[0mzeros\u001b[0m\u001b[1;33m(\u001b[0m\u001b[1;33m(\u001b[0m\u001b[0mclmax\u001b[0m\u001b[1;33m,\u001b[0m\u001b[0mclmax\u001b[0m\u001b[1;33m)\u001b[0m\u001b[1;33m)\u001b[0m\u001b[1;33m\u001b[0m\u001b[0m\n",
      "\u001b[1;31mNameError\u001b[0m: name 'clf_et' is not defined"
     ]
    }
   ],
   "source": [
    "h=5\n",
    "clf_et.fit(x[len(y)/h:],y[len(y)/h:])\n",
    "dif=[];\n",
    "clmax=9\n",
    "cm=np.zeros((clmax,clmax))\n",
    "yp=[]\n",
    "ya=[]\n",
    "for i in xrange(len(y)/h):\n",
    "    gp=clf_et.predict(x[i,:])[0]\n",
    "    ga=y[i]\n",
    "    yp.append(gp)\n",
    "    ya.append(ga)\n",
    "    cm[gp,ga] +=1\n",
    "    dif.append(ga-gp)\n",
    "    print \"actual: %d, prediction: %d\"%(ga,gp)\n",
    "print \"***confusion matrix\"\n",
    "print cm\n",
    "\n",
    "from sklearn.metrics import mean_squared_error\n",
    "rms = np.sqrt(mean_squared_error(ya, yp))\n",
    "print(rms)"
   ]
  },
  {
   "cell_type": "code",
   "execution_count": 117,
   "metadata": {
    "collapsed": false
   },
   "outputs": [
    {
     "data": {
      "text/plain": [
       "<matplotlib.axes._subplots.AxesSubplot at 0x2a06f080>"
      ]
     },
     "execution_count": 117,
     "metadata": {},
     "output_type": "execute_result"
    },
    {
     "data": {
      "image/png": "[encoded data removed]",
      "text/plain": [
       "<matplotlib.figure.Figure at 0x2a069d30>"
      ]
     },
     "metadata": {},
     "output_type": "display_data"
    }
   ],
   "source": [
    "import matplotlib.pyplot as plt\n",
    "plt.style.use('ggplot')\n",
    "%matplotlib inline\n",
    "df_dif=pd.DataFrame({'dif':dif})\n",
    "plt.rcParams['figure.figsize'] = (8,6)\n",
    "df_dif.dif.value_counts().sort_index().plot(kind='bar')"
   ]
  },
  {
   "cell_type": "code",
   "execution_count": 175,
   "metadata": {
    "collapsed": false
   },
   "outputs": [
    {
     "data": {
      "text/plain": [
       "<matplotlib.axes._subplots.AxesSubplot at 0x32ddca20>"
      ]
     },
     "execution_count": 175,
     "metadata": {},
     "output_type": "execute_result"
    },
    {
     "data": {
      "image/png": "[encoded data removed]",
      "text/plain": [
       "<matplotlib.figure.Figure at 0x32c3db70>"
      ]
     },
     "metadata": {},
     "output_type": "display_data"
    }
   ],
   "source": [
    "## real experiment starts here\n",
    "import matplotlib.pyplot as plt\n",
    "plt.style.use('ggplot')\n",
    "plt.rcParams['figure.figsize'] = (8,3)\n",
    "plt.title(\"Numbers of Enrollments\")\n",
    "plt.xlabel(\"Subjects\")\n",
    "plt.ylabel(\"Counts\")\n",
    "m20.head(40).plot(kind='bar')"
   ]
  },
  {
   "cell_type": "code",
   "execution_count": 119,
   "metadata": {
    "collapsed": false,
    "scrolled": true
   },
   "outputs": [
    {
     "name": "stdout",
     "output_type": "stream",
     "text": [
      "MA211  CS102  CS101  TU154  TH161  CS111  CS213  EL171  SC135  PY228  EL172  SC185  TU110  CS223  TU120  ST216  CS284  EL295  TU130  MA212  MA332  CS314  CS222  CS214  CS261  CS251  CS281  CS341  EL395  CS301  CS311  CS374  CS302  CS401  CS342  CS105  HO201  CS395  CS402  CS365  EL070  AT326  TU100  CS289  CS385  AT316  CS326  TU122  CS288  CS487  CS211  CS489  SC123  SC173  CS296  CS488  SW111  CS367  SW365  CS486  SW212  CS409  SW221  CS215  CS386  CS366  CS295  CS377  LA209  CS456  CS467  CS300  SW478  SW213  MW314  BA291  SW475  CS396  CS427  ES356  CS387  CS286  CS297  CS429  CS446  SW335  CS356  HR201  CS459  SO201  NS132  TA395  CJ321  CS397  CS398  CS348  CJ317  MW313  CJ316  MA216  CS407  CS115  CS457  CS388  CS426  CS449  CS408  CJ315  CS285  CS399 \n"
     ]
    }
   ],
   "source": [
    "from sklearn.metrics import mean_squared_error\n",
    "\n",
    "df_rms = pd.DataFrame(m20.copy(), columns=['DT'])\n",
    "df_rms['RF'] = m20.copy()\n",
    "df_rms['ET'] = m20.copy()\n",
    "df_rms['SVM'] = m20.copy()\n",
    "\n",
    "for subject,count in m20.iteritems():\n",
    "    print \"%s \"%subject,\n",
    "    ##load data\n",
    "    dfx=df_csv[df_csv['COURSEID']==subject]\n",
    "    dfx=dfx.iloc[np.random.permutation(len(dfx))]\n",
    "    \n",
    "    ##convert to np.array\n",
    "    x=dfx.as_matrix( dfx.columns[4:] )\n",
    "    y=dfx.as_matrix( ['GRADE'] ).T[0]\n",
    "    \n",
    "    #1st partition for training  \n",
    "    x1=x[len(y)/5:]   \n",
    "    y1=y[len(y)/5:]\n",
    "    \n",
    "    #2nd partition for testing\n",
    "    x2=x[:len(y)/5] \n",
    "    y2=y[:len(y)/5]\n",
    "    \n",
    "    ##evaluate rms\n",
    "    clf_dt.fit(x1,y1)\n",
    "    df_rms['DT'].loc[subject]= np.sqrt(mean_squared_error( y2, clf_dt.predict(x2) ))\n",
    "    \n",
    "    clf_rf.fit(x1,y1)\n",
    "    df_rms['RF'].loc[subject]= np.sqrt(mean_squared_error( y2, clf_rf.predict(x2) ))\n",
    "    \n",
    "    clf_et.fit(x1,y1)\n",
    "    df_rms['ET'].loc[subject]= np.sqrt(mean_squared_error( y2, clf_et.predict(x2) ))\n",
    "    \n",
    "    clf_svm.fit(x1,y1)\n",
    "    df_rms['SVM'].loc[subject]= np.sqrt(mean_squared_error( y2, clf_svm.predict(x2) ))\n",
    "    \n",
    "    \n",
    "import datetime\n",
    "tsp= datetime.datetime.now().strftime(\"%y%m%d_%H%M\")\n",
    "df_rms.to_pickle(\"df_rms\"+tsp+\".pkl\")"
   ]
  },
  {
   "cell_type": "code",
   "execution_count": 126,
   "metadata": {
    "collapsed": false
   },
   "outputs": [
    {
     "data": {
      "text/plain": [
       "<matplotlib.text.Text at 0x287db5c0>"
      ]
     },
     "execution_count": 126,
     "metadata": {},
     "output_type": "execute_result"
    },
    {
     "data": {
      "image/png": "[encoded data removed]",
      "text/plain": [
       "<matplotlib.figure.Figure at 0xa805518>"
      ]
     },
     "metadata": {},
     "output_type": "display_data"
    }
   ],
   "source": [
    "df_rms.head(20).plot(kind='bar')\n",
    "plt.rcParams['figure.figsize'] = (8,5)\n",
    "plt.title(\"RMSE Comparison\")\n",
    "plt.xlabel(\"Subjects\")\n",
    "plt.ylabel(\"RMSE\")"
   ]
  },
  {
   "cell_type": "code",
   "execution_count": 128,
   "metadata": {
    "collapsed": false,
    "scrolled": true
   },
   "outputs": [
    {
     "name": "stdout",
     "output_type": "stream",
     "text": [
      "MA211  CS102  CS101  TU154  TH161  CS111  CS213  EL171  SC135  PY228  EL172  SC185  TU110  CS223  TU120  ST216  CS284  EL295  TU130  MA212  MA332  CS314  CS222  CS214  CS261  CS251  CS281  CS341  EL395  CS301  CS311  CS374  CS302  CS401  CS342  CS105  HO201  CS395  CS402  CS365  EL070  AT326  TU100  CS289  CS385  AT316  CS326  TU122  CS288  CS487  CS211  CS489  SC123  SC173  CS296  CS488  SW111  CS367  SW365  CS486  SW212  CS409  SW221  CS215  CS386  CS366  CS295  CS377  LA209  CS456  CS467  CS300  SW478  SW213  MW314  BA291  SW475  CS396  CS427  ES356  CS387  CS286  CS297  CS429  CS446  SW335  CS356  HR201  CS459  SO201  NS132  TA395  CJ321  CS397  CS398  CS348  CJ317  MW313  CJ316  MA216  CS407  CS115  CS457  CS388  CS426  CS449  CS408  CJ315  CS285  CS399 \n"
     ]
    }
   ],
   "source": [
    "df_accuracy = pd.DataFrame(m20.copy(), columns=['DT'])\n",
    "df_accuracy['RF'] = m20.copy()\n",
    "df_accuracy['ET'] = m20.copy()\n",
    "df_accuracy['SVM'] = m20.copy()\n",
    "\n",
    "for subject,count in m20.iteritems():\n",
    "    print \"%s \"%subject,\n",
    "    ##load data\n",
    "    dfx=df_csv[df_csv['COURSEID']==subject]\n",
    "    dfx=dfx.iloc[np.random.permutation(len(dfx))]\n",
    "    ##convert to np.array\n",
    "    x=dfx.as_matrix( dfx.columns[4:] )\n",
    "    y=dfx.as_matrix( ['GRADE'] ).T[0]\n",
    "    ##evaluation accuracy\n",
    "    df_accuracy['DT'].loc[subject]=cross_val_score(clf_dt, x, y, cv=5).mean()\n",
    "    df_accuracy['RF'].loc[subject]=cross_val_score(clf_rf, x, y, cv=5).mean()\n",
    "    df_accuracy['ET'].loc[subject]=cross_val_score(clf_et, x, y, cv=5).mean()\n",
    "    df_accuracy['SVM'].loc[subject]=cross_val_score(clf_svm, x, y, cv=5).mean()\n",
    "\n",
    "import datetime\n",
    "tsp= datetime.datetime.now().strftime(\"%y%m%d_%H%M\")\n",
    "df_accuracy.to_pickle(\"df_accuracy\"+tsp+\".pkl\")\n",
    "df_accuracy.to_pickle(\"df_accuracy.pkl\")"
   ]
  },
  {
   "cell_type": "code",
   "execution_count": 129,
   "metadata": {
    "collapsed": false,
    "scrolled": true
   },
   "outputs": [
    {
     "data": {
      "text/plain": [
       "<matplotlib.text.Text at 0x2b7f4da0>"
      ]
     },
     "execution_count": 129,
     "metadata": {},
     "output_type": "execute_result"
    },
    {
     "data": {
      "image/png": "[encoded data removed]",
      "text/plain": [
       "<matplotlib.figure.Figure at 0x2baffd68>"
      ]
     },
     "metadata": {},
     "output_type": "display_data"
    }
   ],
   "source": [
    "df_accuracy= pd.read_pickle(\"df_accuracy.pkl\")\n",
    "df_accuracy.head(20).plot(kind='bar')\n",
    "plt.rcParams['figure.figsize'] = (8,5)\n",
    "plt.title(\"Accuracy Comparison\")\n",
    "plt.xlabel(\"Subjects\")\n",
    "plt.ylabel(\"accuracy\")\n"
   ]
  },
  {
   "cell_type": "code",
   "execution_count": 146,
   "metadata": {
    "collapsed": false
   },
   "outputs": [],
   "source": [
    "df_compare_weka=df_accuracy.head(10).copy()\n",
    "df_compare_weka['SVMw'] = pd.Series()\n",
    "df_compare_weka['RFw'] = pd.Series()\n",
    "\n",
    "df_compare_weka['SVMw'].loc['MA211']=44.1011\n",
    "df_compare_weka['SVMw'].loc['CS102']=41.4079\n",
    "df_compare_weka['SVMw'].loc['CS101']=53.7975\n",
    "df_compare_weka['SVMw'].loc['TU154']=33.7209\n",
    "df_compare_weka['SVMw'].loc['TH161']=48.0534\n",
    "df_compare_weka['SVMw'].loc['CS111']=44.8441\n",
    "df_compare_weka['SVMw'].loc['CS213']=47.7124\n",
    "df_compare_weka['SVMw'].loc['EL171']=40.2632\n",
    "df_compare_weka['SVMw'].loc['SC135']=35.2703\n",
    "df_compare_weka['SVMw'].loc['PY228']=60.1418\n",
    "\n",
    "df_compare_weka['RFw'].loc['MA211']= 42.3221\n",
    "df_compare_weka['RFw'].loc['CS102']= 41.5114\n",
    "df_compare_weka['RFw'].loc['CS101']= 53.481\n",
    "df_compare_weka['RFw'].loc['TU154']= 33.5095\n",
    "df_compare_weka['RFw'].loc['TH161']= 48.0534\n",
    "df_compare_weka['RFw'].loc['CS111']= 45.4436\n",
    "df_compare_weka['RFw'].loc['CS213']= 48.7582\n",
    "df_compare_weka['RFw'].loc['EL171']= 39.2105\n",
    "df_compare_weka['RFw'].loc['SC135']= 32.027\n",
    "df_compare_weka['RFw'].loc['PY228']= 52.0567\n",
    "\n",
    "\n",
    "df_compare_weka['SVMw'] = df_compare_weka['SVMw']*0.01\n",
    "df_compare_weka['RFw'] = df_compare_weka['RFw']*0.01"
   ]
  },
  {
   "cell_type": "code",
   "execution_count": 147,
   "metadata": {
    "collapsed": false
   },
   "outputs": [
    {
     "data": {
      "text/html": [
       "<div>\n",
       "<table border=\"1\" class=\"dataframe\">\n",
       "  <thead>\n",
       "    <tr style=\"text-align: right;\">\n",
       "      <th></th>\n",
       "      <th>DT</th>\n",
       "      <th>RF</th>\n",
       "      <th>ET</th>\n",
       "      <th>SVM</th>\n",
       "      <th>SVMw</th>\n",
       "      <th>RFw</th>\n",
       "    </tr>\n",
       "  </thead>\n",
       "  <tbody>\n",
       "    <tr>\n",
       "      <th>MA211</th>\n",
       "      <td>0.403609</td>\n",
       "      <td>0.436395</td>\n",
       "      <td>0.428927</td>\n",
       "      <td>0.435537</td>\n",
       "      <td>0.441011</td>\n",
       "      <td>0.423221</td>\n",
       "    </tr>\n",
       "    <tr>\n",
       "      <th>CS102</th>\n",
       "      <td>0.41099</td>\n",
       "      <td>0.421370</td>\n",
       "      <td>0.409932</td>\n",
       "      <td>0.414072</td>\n",
       "      <td>0.414079</td>\n",
       "      <td>0.415114</td>\n",
       "    </tr>\n",
       "    <tr>\n",
       "      <th>CS101</th>\n",
       "      <td>0.528506</td>\n",
       "      <td>0.538030</td>\n",
       "      <td>0.531675</td>\n",
       "      <td>0.538002</td>\n",
       "      <td>0.537975</td>\n",
       "      <td>0.534810</td>\n",
       "    </tr>\n",
       "    <tr>\n",
       "      <th>TU154</th>\n",
       "      <td>0.33508</td>\n",
       "      <td>0.335058</td>\n",
       "      <td>0.335052</td>\n",
       "      <td>0.334028</td>\n",
       "      <td>0.337209</td>\n",
       "      <td>0.335095</td>\n",
       "    </tr>\n",
       "    <tr>\n",
       "      <th>TH161</th>\n",
       "      <td>0.480568</td>\n",
       "      <td>0.480568</td>\n",
       "      <td>0.480568</td>\n",
       "      <td>0.480568</td>\n",
       "      <td>0.480534</td>\n",
       "      <td>0.480534</td>\n",
       "    </tr>\n",
       "    <tr>\n",
       "      <th>CS111</th>\n",
       "      <td>0.370669</td>\n",
       "      <td>0.423144</td>\n",
       "      <td>0.388378</td>\n",
       "      <td>0.447242</td>\n",
       "      <td>0.448441</td>\n",
       "      <td>0.454436</td>\n",
       "    </tr>\n",
       "    <tr>\n",
       "      <th>CS213</th>\n",
       "      <td>0.430282</td>\n",
       "      <td>0.491580</td>\n",
       "      <td>0.492623</td>\n",
       "      <td>0.471919</td>\n",
       "      <td>0.477124</td>\n",
       "      <td>0.487582</td>\n",
       "    </tr>\n",
       "    <tr>\n",
       "      <th>EL171</th>\n",
       "      <td>0.392107</td>\n",
       "      <td>0.393362</td>\n",
       "      <td>0.389545</td>\n",
       "      <td>0.399866</td>\n",
       "      <td>0.402632</td>\n",
       "      <td>0.392105</td>\n",
       "    </tr>\n",
       "    <tr>\n",
       "      <th>SC135</th>\n",
       "      <td>0.308121</td>\n",
       "      <td>0.306561</td>\n",
       "      <td>0.308171</td>\n",
       "      <td>0.351554</td>\n",
       "      <td>0.352703</td>\n",
       "      <td>0.320270</td>\n",
       "    </tr>\n",
       "    <tr>\n",
       "      <th>PY228</th>\n",
       "      <td>0.465338</td>\n",
       "      <td>0.523437</td>\n",
       "      <td>0.486484</td>\n",
       "      <td>0.591465</td>\n",
       "      <td>0.601418</td>\n",
       "      <td>0.520567</td>\n",
       "    </tr>\n",
       "  </tbody>\n",
       "</table>\n",
       "</div>"
      ],
      "text/plain": [
       "             DT        RF        ET       SVM      SVMw       RFw\n",
       "MA211  0.403609  0.436395  0.428927  0.435537  0.441011  0.423221\n",
       "CS102   0.41099  0.421370  0.409932  0.414072  0.414079  0.415114\n",
       "CS101  0.528506  0.538030  0.531675  0.538002  0.537975  0.534810\n",
       "TU154   0.33508  0.335058  0.335052  0.334028  0.337209  0.335095\n",
       "TH161  0.480568  0.480568  0.480568  0.480568  0.480534  0.480534\n",
       "CS111  0.370669  0.423144  0.388378  0.447242  0.448441  0.454436\n",
       "CS213  0.430282  0.491580  0.492623  0.471919  0.477124  0.487582\n",
       "EL171  0.392107  0.393362  0.389545  0.399866  0.402632  0.392105\n",
       "SC135  0.308121  0.306561  0.308171  0.351554  0.352703  0.320270\n",
       "PY228  0.465338  0.523437  0.486484  0.591465  0.601418  0.520567"
      ]
     },
     "execution_count": 147,
     "metadata": {},
     "output_type": "execute_result"
    }
   ],
   "source": [
    "df_compare_weka"
   ]
  },
  {
   "cell_type": "code",
   "execution_count": 169,
   "metadata": {
    "collapsed": false
   },
   "outputs": [
    {
     "data": {
      "text/plain": [
       "<matplotlib.text.Text at 0x31375400>"
      ]
     },
     "execution_count": 169,
     "metadata": {},
     "output_type": "execute_result"
    },
    {
     "data": {
      "image/png": "[encoded data removed]",
      "text/plain": [
       "<matplotlib.figure.Figure at 0x30e3fda0>"
      ]
     },
     "metadata": {},
     "output_type": "display_data"
    }
   ],
   "source": [
    "df_compare_weka.plot(kind='bar')\n",
    "plt.rcParams['figure.figsize'] = (10,6)\n",
    "plt.title(\"Accuracy Comparison Scikit and Weka\")\n",
    "plt.xlabel(\"Subjects\")\n",
    "plt.ylabel(\"Accuracy\")"
   ]
  },
  {
   "cell_type": "code",
   "execution_count": 156,
   "metadata": {
    "collapsed": false
   },
   "outputs": [
    {
     "data": {
      "text/plain": [
       "<matplotlib.text.Text at 0x2e0682b0>"
      ]
     },
     "execution_count": 156,
     "metadata": {},
     "output_type": "execute_result"
    },
    {
     "data": {
      "image/png": "[encoded data removed]",
      "text/plain": [
       "<matplotlib.figure.Figure at 0x2e1297b8>"
      ]
     },
     "metadata": {},
     "output_type": "display_data"
    }
   ],
   "source": [
    "df_rms.mean().plot(kind='bar')\n",
    "plt.rcParams['figure.figsize'] = (8,3)\n",
    "plt.title(\"MEAN RMSE\")\n",
    "plt.xlabel(\"Classifier\")\n",
    "plt.ylabel(\"RMSE\")"
   ]
  },
  {
   "cell_type": "code",
   "execution_count": 157,
   "metadata": {
    "collapsed": false
   },
   "outputs": [
    {
     "data": {
      "text/plain": [
       "DT     1.142645\n",
       "RF     1.001157\n",
       "ET     1.031549\n",
       "SVM    0.980141\n",
       "dtype: float64"
      ]
     },
     "execution_count": 157,
     "metadata": {},
     "output_type": "execute_result"
    }
   ],
   "source": [
    "df_rms.mean()"
   ]
  },
  {
   "cell_type": "code",
   "execution_count": 158,
   "metadata": {
    "collapsed": false
   },
   "outputs": [
    {
     "data": {
      "text/plain": [
       "DT     0.484280\n",
       "RF     0.529817\n",
       "ET     0.519093\n",
       "SVM    0.544049\n",
       "dtype: float64"
      ]
     },
     "execution_count": 158,
     "metadata": {},
     "output_type": "execute_result"
    }
   ],
   "source": [
    "df_accuracy.mean()"
   ]
  },
  {
   "cell_type": "code",
   "execution_count": null,
   "metadata": {
    "collapsed": true
   },
   "outputs": [],
   "source": []
  }
 ],
 "metadata": {
  "kernelspec": {
   "display_name": "Python 2",
   "language": "python",
   "name": "python2"
  },
  "language_info": {
   "codemirror_mode": {
    "name": "ipython",
    "version": 2
   },
   "file_extension": ".py",
   "mimetype": "text/x-python",
   "name": "python",
   "nbconvert_exporter": "python",
   "pygments_lexer": "ipython2",
   "version": "2.7.11"
  }
 },
 "nbformat": 4,
 "nbformat_minor": 0
}
