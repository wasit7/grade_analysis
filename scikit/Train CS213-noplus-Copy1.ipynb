{
 "cells": [
  {
   "cell_type": "code",
   "execution_count": 2,
   "metadata": {
    "collapsed": false
   },
   "outputs": [],
   "source": [
    "import pandas as pd\n",
    "import numpy as np\n",
    "import pickle"
   ]
  },
  {
   "cell_type": "code",
   "execution_count": 39,
   "metadata": {
    "collapsed": false
   },
   "outputs": [],
   "source": [
    "df_csv= pd.read_pickle(\"../df_noplus/df5.pkl\")"
   ]
  },
  {
   "cell_type": "code",
   "execution_count": 40,
   "metadata": {
    "collapsed": false
   },
   "outputs": [
    {
     "name": "stdout",
     "output_type": "stream",
     "text": [
      "(28272, 199)\n",
      "(27994, 199)\n"
     ]
    }
   ],
   "source": [
    "all_subjects=df_csv['COURSEID'].value_counts()\n",
    "##removing any subject enrolled less than 20 times\n",
    "m20=all_subjects[all_subjects[:]>=20]\n",
    "print df_csv.shape\n",
    "df_csv=df_csv[df_csv[\"COURSEID\"].isin(m20.index)]\n",
    "print df_csv.shape"
   ]
  },
  {
   "cell_type": "code",
   "execution_count": 41,
   "metadata": {
    "collapsed": false
   },
   "outputs": [],
   "source": [
    "df=df_csv[df_csv['COURSEID']=='CS213']\n",
    "#df[\"COURSEID\"].value_counts()\n",
    "#df=pd.read_csv('../df_m20/df_CS213.csv',index_col=0)\n",
    "df=df.iloc[np.random.permutation(len(df))]"
   ]
  },
  {
   "cell_type": "code",
   "execution_count": 42,
   "metadata": {
    "collapsed": false
   },
   "outputs": [
    {
     "name": "stdout",
     "output_type": "stream",
     "text": [
      "Index([u'AN201', u'AS171', u'AS177', u'AS178', u'AT207', u'AT316', u'AT326',\n",
      "       u'AT336', u'AT346', u'AT366',\n",
      "       ...\n",
      "       u'TU110', u'TU111', u'TU115', u'TU116', u'TU120', u'TU122', u'TU130',\n",
      "       u'TU153', u'TU154', u'TU156'],\n",
      "      dtype='object', length=195)\n",
      "['GRADE']\n"
     ]
    }
   ],
   "source": [
    "x_head=df.columns[4:]\n",
    "y_head=['GRADE']\n",
    "print x_head\n",
    "print y_head\n",
    "x=df.as_matrix(x_head)\n",
    "y=df.as_matrix(y_head).T[0]"
   ]
  },
  {
   "cell_type": "code",
   "execution_count": 7,
   "metadata": {
    "collapsed": false
   },
   "outputs": [
    {
     "name": "stdout",
     "output_type": "stream",
     "text": [
      "[ 0.47741935  0.36363636  0.40131579  0.44078947  0.48026316]\n",
      "--Decision Tree: 0.432684827906\n",
      "[ 0.49032258  0.48701299  0.5         0.50657895  0.45394737]\n",
      "--Random Forest: 0.48757237669\n",
      "[ 0.43225806  0.48051948  0.46052632  0.5         0.48026316]\n",
      "--Extra Tree: 0.470713403744\n",
      "[ 0.45806452  0.46103896  0.46710526  0.51973684  0.51315789]\n",
      "--SVM: 0.483820695434\n"
     ]
    }
   ],
   "source": [
    "from sklearn.tree import DecisionTreeClassifier\n",
    "from sklearn.ensemble import RandomForestClassifier\n",
    "from sklearn.ensemble import ExtraTreesClassifier\n",
    "from sklearn import svm\n",
    "from sklearn.cross_validation import cross_val_score\n",
    "\n",
    "clf_dt = DecisionTreeClassifier(max_depth=None, \n",
    "    min_samples_split=1, random_state=None, max_features=None)\n",
    "scores = cross_val_score(clf_dt, x, y, cv=5)\n",
    "print scores\n",
    "print \"--Decision Tree: %s\"%scores.mean()\n",
    "\n",
    "clf_rf=RandomForestClassifier(n_estimators=10, max_depth=None, \n",
    "    min_samples_split=1, random_state=None, max_features=None)\n",
    "scores = cross_val_score(clf_rf, x, y, cv=5)\n",
    "print scores\n",
    "print \"--Random Forest: %s\"%scores.mean()\n",
    "\n",
    "clf_et = ExtraTreesClassifier(n_estimators=10, max_depth=None, \n",
    "    min_samples_split=1, random_state=None, max_features=None)\n",
    "scores = cross_val_score(clf_et, x, y, cv=5)\n",
    "print scores\n",
    "print \"--Extra Tree: %s\"%scores.mean()\n",
    "\n",
    "clf_svm = svm.SVC()\n",
    "scores = cross_val_score(clf_svm, x, y, cv=5)\n",
    "print scores\n",
    "print \"--SVM: %s\"%scores.mean()"
   ]
  },
  {
   "cell_type": "code",
   "execution_count": 54,
   "metadata": {
    "collapsed": false
   },
   "outputs": [
    {
     "data": {
      "text/plain": [
       "ExtraTreesClassifier(bootstrap=False, class_weight=None, criterion='gini',\n",
       "           max_depth=None, max_features=None, max_leaf_nodes=None,\n",
       "           min_samples_leaf=1, min_samples_split=1,\n",
       "           min_weight_fraction_leaf=0.0, n_estimators=10, n_jobs=1,\n",
       "           oob_score=False, random_state=None, verbose=0, warm_start=False)"
      ]
     },
     "execution_count": 54,
     "metadata": {},
     "output_type": "execute_result"
    }
   ],
   "source": [
    "clf_et.fit(x[10:],y[10:])"
   ]
  },
  {
   "cell_type": "code",
   "execution_count": 71,
   "metadata": {
    "collapsed": false
   },
   "outputs": [
    {
     "data": {
      "text/plain": [
       "array([[475, 465, 585, 486, 512, 592, 385, 335, 555, 568],\n",
       "       [ 96,  43, 122, 166, 145,  99,  14, 137, 236,  98],\n",
       "       [333, 343, 356, 341, 245, 423, 323, 285, 490, 454],\n",
       "       [241, 249, 207, 275,  66, 246, 218, 257, 356, 297],\n",
       "       [404, 315, 408, 388, 437, 356, 540, 443, 441, 400],\n",
       "       [404, 425, 416, 403, 384, 363, 494, 418, 439, 522],\n",
       "       [392, 306, 379, 401, 397, 461, 494, 416, 528, 498],\n",
       "       [245, 211, 203,  10,  24, 222, 206, 234,  82, 287],\n",
       "       [243, 233, 207,  17, 262, 343, 209, 241, 103, 311],\n",
       "       [ 42, 156, 160,  28, 174,  84,  80,  33,  78,  74],\n",
       "       [600, 579, 509, 605, 645, 516, 624, 603, 621, 255],\n",
       "       [127, 102, 167, 176, 159, 128, 144, 128, 249, 114],\n",
       "       [128, 177, 195, 158,  46, 117, 190, 167, 248, 101],\n",
       "       [287, 317, 283, 280, 228, 285, 258, 284, 383, 361],\n",
       "       [ 74,  25,  73, 120,  72,  10,  39,  46,  29,  34],\n",
       "       [212, 195, 179, 236, 397, 205, 184, 414, 313, 188],\n",
       "       [294, 242, 248,  99, 229, 279, 259, 281,  96, 359],\n",
       "       [391, 306, 304, 112, 411, 343, 294, 401, 129, 395],\n",
       "       [352, 300, 337, 319, 234, 376, 301, 285, 455, 423],\n",
       "       [571, 581, 499, 615, 619, 501, 597, 614, 178, 246]], dtype=int64)"
      ]
     },
     "execution_count": 71,
     "metadata": {},
     "output_type": "execute_result"
    }
   ],
   "source": [
    "clf_et.apply(x[:20])"
   ]
  },
  {
   "cell_type": "code",
   "execution_count": 72,
   "metadata": {
    "collapsed": false
   },
   "outputs": [
    {
     "data": {
      "text/plain": [
       "(9L,)"
      ]
     },
     "execution_count": 72,
     "metadata": {},
     "output_type": "execute_result"
    }
   ],
   "source": [
    "np.bincount(clf_et.predict(x)).shape"
   ]
  },
  {
   "cell_type": "code",
   "execution_count": 80,
   "metadata": {
    "collapsed": false
   },
   "outputs": [
    {
     "data": {
      "text/plain": [
       "array([5], dtype=int64)"
      ]
     },
     "execution_count": 80,
     "metadata": {},
     "output_type": "execute_result"
    }
   ],
   "source": [
    "clf_et.predict(x[1])"
   ]
  },
  {
   "cell_type": "code",
   "execution_count": 84,
   "metadata": {
    "collapsed": false
   },
   "outputs": [
    {
     "data": {
      "text/plain": [
       "0.90000000000000002"
      ]
     },
     "execution_count": 84,
     "metadata": {},
     "output_type": "execute_result"
    }
   ],
   "source": [
    "np.max(clf_et.predict_proba(x[1]))"
   ]
  },
  {
   "cell_type": "code",
   "execution_count": 28,
   "metadata": {
    "collapsed": false
   },
   "outputs": [
    {
     "data": {
      "text/plain": [
       "array([[ 0.,  0.,  0.,  1.,  0.,  0.]])"
      ]
     },
     "execution_count": 28,
     "metadata": {},
     "output_type": "execute_result"
    }
   ],
   "source": [
    "clf_et.predict_proba(x[0,:])"
   ]
  },
  {
   "cell_type": "code",
   "execution_count": 29,
   "metadata": {
    "collapsed": false
   },
   "outputs": [
    {
     "data": {
      "text/plain": [
       "array([[-inf, -inf, -inf,   0., -inf, -inf]])"
      ]
     },
     "execution_count": 29,
     "metadata": {},
     "output_type": "execute_result"
    }
   ],
   "source": [
    "clf_et.predict_log_proba(x[0,:])"
   ]
  },
  {
   "cell_type": "code",
   "execution_count": null,
   "metadata": {
    "collapsed": true
   },
   "outputs": [],
   "source": []
  }
 ],
 "metadata": {
  "kernelspec": {
   "display_name": "Python 2",
   "language": "python",
   "name": "python2"
  },
  "language_info": {
   "codemirror_mode": {
    "name": "ipython",
    "version": 2
   },
   "file_extension": ".py",
   "mimetype": "text/x-python",
   "name": "python",
   "nbconvert_exporter": "python",
   "pygments_lexer": "ipython2",
   "version": "2.7.11"
  }
 },
 "nbformat": 4,
 "nbformat_minor": 0
}
