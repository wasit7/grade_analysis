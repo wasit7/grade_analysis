{
 "cells": [
  {
   "cell_type": "code",
   "execution_count": 46,
   "metadata": {
    "collapsed": false
   },
   "outputs": [
    {
     "data": {
      "text/plain": [
       "u'C:\\\\Users\\\\Wasit\\\\Google Drive\\\\Somkiat\\\\data_csgrade_wasit\\\\wasit\\\\scikit'"
      ]
     },
     "execution_count": 46,
     "metadata": {},
     "output_type": "execute_result"
    }
   ],
   "source": [
    "pwd"
   ]
  },
  {
   "cell_type": "code",
   "execution_count": 47,
   "metadata": {
    "collapsed": false
   },
   "outputs": [
    {
     "name": "stdout",
     "output_type": "stream",
     "text": [
      "(28272, 199)\n",
      "(27994, 199)\n"
     ]
    }
   ],
   "source": [
    "import pandas as pd\n",
    "import numpy as np\n",
    "df_csv= pd.read_pickle(\"../df_noplus/df5.pkl\")\n",
    "all_subjects=df_csv['COURSEID'].value_counts()\n",
    "##removing any subject enrolled less than 20 times\n",
    "all_subjects=all_subjects[all_subjects[:]>=20]\n",
    "print df_csv.shape\n",
    "df_csv=df_csv[df_csv[\"COURSEID\"].isin(all_subjects.index)]\n",
    "print df_csv.shape"
   ]
  },
  {
   "cell_type": "code",
   "execution_count": 48,
   "metadata": {
    "collapsed": false
   },
   "outputs": [
    {
     "name": "stdout",
     "output_type": "stream",
     "text": [
      "MA211\n",
      "CS102\n",
      "CS101\n",
      "TU154\n",
      "TH161\n",
      "CS111\n",
      "CS213\n",
      "EL171\n",
      "SC135\n",
      "PY228\n",
      "EL172\n",
      "SC185\n",
      "TU110\n",
      "CS223\n",
      "TU120\n",
      "ST216\n",
      "CS284\n",
      "EL295\n",
      "TU130\n",
      "MA212\n",
      "MA332\n",
      "CS314\n",
      "CS222\n",
      "CS214\n",
      "CS261\n",
      "CS251\n",
      "CS281\n",
      "CS341\n",
      "EL395\n",
      "CS301\n",
      "CS311\n",
      "CS374\n",
      "CS302\n",
      "CS401\n",
      "CS342\n",
      "CS105\n",
      "HO201\n",
      "CS395\n",
      "CS402\n",
      "CS365\n",
      "EL070\n",
      "AT326\n",
      "TU100\n",
      "CS289\n",
      "CS385\n",
      "AT316\n",
      "CS326\n",
      "TU122\n",
      "CS288\n",
      "CS487\n",
      "CS211\n",
      "CS489\n",
      "SC123\n",
      "SC173\n",
      "CS296\n",
      "CS488\n",
      "SW111\n",
      "CS367\n",
      "SW365\n",
      "CS486\n",
      "SW212\n",
      "CS409\n",
      "SW221\n",
      "CS215\n",
      "CS386\n",
      "CS366\n",
      "CS295\n",
      "CS377\n",
      "LA209\n",
      "CS456\n",
      "CS467\n",
      "CS300\n",
      "SW478\n",
      "SW213\n",
      "MW314\n",
      "BA291\n",
      "SW475\n",
      "CS396\n",
      "CS427\n",
      "ES356\n",
      "CS387\n",
      "CS286\n",
      "CS297\n",
      "CS429\n",
      "CS446\n",
      "SW335\n",
      "CS356\n",
      "HR201\n",
      "CS459\n",
      "SO201\n",
      "NS132\n",
      "TA395\n",
      "CJ321\n",
      "CS397\n",
      "CS398\n",
      "CS348\n",
      "CJ317\n",
      "MW313\n",
      "CJ316\n",
      "MA216\n",
      "CS407\n",
      "CS115\n",
      "CS457\n",
      "CS388\n",
      "CS426\n",
      "CS449\n",
      "CS408\n",
      "CJ315\n",
      "CS285\n",
      "CS399\n"
     ]
    }
   ],
   "source": [
    "for subject,count in all_subjects.iteritems():\n",
    "    print subject\n",
    "    ##load data\n",
    "    dfx=df_csv[df_csv['COURSEID']==subject].copy()\n",
    "    dfx=dfx.iloc[np.random.permutation(len(dfx))]\n",
    "    ##weka\n",
    "    dfx.index.name ='id'\n",
    "    del dfx['STUDENTID']\n",
    "    del dfx['COURSEID']\n",
    "    del dfx['TERM']\n",
    "    dfx=dfx.replace({'GRADE':{8:'A',7:'B',6:'C',5:'D',4:'F',3:'W',2:'S',1:'U',0:'NA'}})\n",
    "    dfx.to_csv('weka/%s.csv'%subject)"
   ]
  }
 ],
 "metadata": {
  "kernelspec": {
   "display_name": "Python 2",
   "language": "python",
   "name": "python2"
  },
  "language_info": {
   "codemirror_mode": {
    "name": "ipython",
    "version": 2
   },
   "file_extension": ".py",
   "mimetype": "text/x-python",
   "name": "python",
   "nbconvert_exporter": "python",
   "pygments_lexer": "ipython2",
   "version": "2.7.11"
  }
 },
 "nbformat": 4,
 "nbformat_minor": 0
}
